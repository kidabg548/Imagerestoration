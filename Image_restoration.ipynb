{
 "cells": [
  {
   "cell_type": "code",
   "execution_count": null,
   "metadata": {
    "vscode": {
     "languageId": "plaintext"
    }
   },
   "outputs": [],
   "source": [
    "import cv2\n",
    "import numpy as np\n",
    "from google.colab.patches import cv2_imshow\n",
    "\n",
    "# Load and display the original image\n",
    "OriginalImage = cv2.imread(\"your_image.jpg\")\n",
    "cv2_imshow(OriginalImage)\n",
    "\n",
    "# Load and display the mask image in grayscale\n",
    "markedDamages = cv2.imread(\"gray_scaled_of_your_image.jpg\", 0)  # gray scale\n",
    "cv2_imshow(markedDamages)\n",
    "\n",
    "# Create a mask with threshold\n",
    "ret, thresh = cv2.threshold(markedDamages, 254, 255, cv2.THRESH_BINARY)\n",
    "\n",
    "cv2_imshow(thresh)  # Display thresholded mask\n",
    "\n",
    "# Make the lines thicker\n",
    "kernel = np.ones((7,7), np.uint8)\n",
    "mask = cv2.dilate(thresh, kernel, iterations=1)\n",
    "\n",
    "cv2_imshow(mask)  # Display dilated mask\n",
    "\n",
    "# Restore the image\n",
    "restoredImage = cv2.inpaint(OriginalImage, mask, 3, cv2.INPAINT_TELEA)\n",
    "\n",
    "cv2_imshow(restoredImage)  # Display restored image\n",
    "#make directory for restored image\n",
    "import os\n",
    "os.makedirs(\"your_own_folder_name\", exist_ok=True)\n",
    "\n",
    "# Save the restored imagegit \n",
    "cv2.imwrite(\"/your_own_folder_name/restoredold.png\", restoredImage)\n"
   ]
  }
 ],
 "metadata": {
  "language_info": {
   "name": "python"
  }
 },
 "nbformat": 4,
 "nbformat_minor": 2
}
